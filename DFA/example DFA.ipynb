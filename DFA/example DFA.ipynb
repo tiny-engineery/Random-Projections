{
 "cells": [
  {
   "cell_type": "code",
   "execution_count": 1,
   "id": "f24c4fbe-012e-484b-8ec3-29ec822303df",
   "metadata": {
    "tags": []
   },
   "outputs": [],
   "source": [
    "from dfa_lib import alter_nn as dfa_nn# contains dfa layers\n",
    "import torch\n",
    "import numpy as np\n",
    "\n",
    "from torch import Tensor\n",
    "\n",
    "\n",
    "class DFANetwork(torch.nn.Module):\n",
    "    \n",
    "    def __init__(self, in_features, out_features):\n",
    "        \"\"\"\n",
    "        :param in_features: dimension of input features (784 for MNIST)\n",
    "\n",
    "        1) Create a ErrorDFA.\n",
    "        2) Create other LinearDFA-s with a reference to error_layer\n",
    "        \"\"\"\n",
    "        super(DFANetwork, self).__init__()\n",
    "\n",
    "        self.in_features = in_features\n",
    "        self.out_features = out_features\n",
    "        self.f = torch.nn.ReLU()\n",
    "            \n",
    "        self.last = dfa_nn.ErrorDFA(100, self.out_features)\n",
    "        self.linear = dfa_nn.LinearDFA(784, 100, error_layer = self.last)\n",
    "\n",
    "\n",
    "    def forward(self, inputs):\n",
    "        \"\"\"\n",
    "        forward pass, which is same for conventional feed-forward net\n",
    "        :param inputs: inputs with shape [batch_size, in_features]\n",
    "        :return: logit outputs from the network\n",
    "        \"\"\"\n",
    "        \n",
    "        x = self.f(self.linear(inputs))\n",
    "        x = self.last(x)\n",
    "\n",
    "        return x"
   ]
  },
  {
   "cell_type": "code",
   "execution_count": 2,
   "id": "0f6e8395-8ad7-4798-9080-d7894ca4357f",
   "metadata": {
    "tags": []
   },
   "outputs": [],
   "source": [
    "import matplotlib.pyplot as plt\n",
    "from torchvision import datasets, transforms\n",
    "from torch.utils.data import DataLoader\n",
    "from tqdm.notebook import tqdm\n",
    "import os\n",
    "\n",
    "BATCH_SIZE = 128\n",
    "\n",
    "train_loader = DataLoader(datasets.FashionMNIST('./data', train=True, download=True,\n",
    "                                         transform=transforms.Compose([\n",
    "                                                                      transforms.ToTensor()\n",
    "                                                                      ])),\n",
    "                                         batch_size=BATCH_SIZE, shuffle=True)\n",
    "test_loader = DataLoader(datasets.FashionMNIST('./data', train=False, download=True,\n",
    "                                        transform=transforms.Compose([\n",
    "                                                                     transforms.ToTensor()\n",
    "                                                                     ])),\n",
    "                                        batch_size=BATCH_SIZE, shuffle=True)\n"
   ]
  },
  {
   "cell_type": "code",
   "execution_count": 3,
   "id": "d2cc8cc8-2a93-4de3-bbc4-9ca1da340ead",
   "metadata": {
    "tags": []
   },
   "outputs": [],
   "source": [
    "# device = torch.device(\"cuda\" if torch.cuda.is_available() else \"cpu\")\n",
    "\n",
    "model_dfa = DFANetwork(in_features=784, out_features = 10)\n",
    "\n",
    "losses_list = []\n",
    "accuracy_list = []\n",
    "val_losses_list = []\n",
    "val_accuracy_list = []"
   ]
  },
  {
   "cell_type": "code",
   "execution_count": 4,
   "id": "360b966b-09cc-4046-9754-ba8bf689e772",
   "metadata": {
    "tags": []
   },
   "outputs": [
    {
     "data": {
      "application/vnd.jupyter.widget-view+json": {
       "model_id": "1c935e16c2a1473b8a1fe1331dfd9d5c",
       "version_major": 2,
       "version_minor": 0
      },
      "text/plain": [
       "  0%|          | 0/3 [00:00<?, ?it/s]"
      ]
     },
     "metadata": {},
     "output_type": "display_data"
    },
    {
     "name": "stdout",
     "output_type": "stream",
     "text": [
      "iter  0 loss  2.4744317531585693\n",
      "iter  100 loss  0.92950838804245\n",
      "iter  200 loss  0.8423228859901428\n",
      "iter  300 loss  0.650940477848053\n",
      "iter  400 loss  0.6328248381614685\n",
      "iter  0 loss  0.552724301815033\n",
      "iter  100 loss  0.5623449683189392\n",
      "iter  200 loss  0.5478946566581726\n",
      "iter  300 loss  0.42704537510871887\n",
      "iter  400 loss  0.4071912467479706\n",
      "iter  0 loss  0.5503165125846863\n",
      "iter  100 loss  0.43831688165664673\n",
      "iter  200 loss  0.5131833553314209\n",
      "iter  300 loss  0.37797069549560547\n",
      "iter  400 loss  0.42457616329193115\n"
     ]
    }
   ],
   "source": [
    "learning_rate = 1e-3\n",
    "optimizer_dfa = torch.optim.Adam(model_dfa.parameters(), lr=learning_rate)\n",
    "loss = torch.nn.CrossEntropyLoss()\n",
    "\n",
    "epochs = 3\n",
    "\n",
    "for epoch in tqdm(range(epochs)):\n",
    "\n",
    "    # model_dfa.train(True)\n",
    "    \n",
    "    for idx_batch, (inputs, targets) in enumerate(train_loader):\n",
    "        \n",
    "        inputs = inputs.view(inputs.size()[0], -1)\n",
    "        \n",
    "        outputs_dfa = model_dfa(inputs)\n",
    "        loss_fa = loss(outputs_dfa, targets)\n",
    "\n",
    "        model_dfa.zero_grad()\n",
    "        loss_fa.backward()\n",
    "        optimizer_dfa.step()\n",
    "\n",
    "        if idx_batch % 100 == 0:\n",
    "            print(\"iter \", idx_batch, \"loss \", loss_fa.item())"
   ]
  },
  {
   "cell_type": "code",
   "execution_count": 5,
   "id": "44eb5816-55e5-4c18-9507-f24bea1196a0",
   "metadata": {
    "tags": []
   },
   "outputs": [],
   "source": [
    "from sklearn.metrics import accuracy_score\n",
    "\n",
    "def evaluate(model, dataloader, loss_fn):\n",
    "\n",
    "    y_pred_list = []\n",
    "    y_true_list = []\n",
    "    losses = []\n",
    "    loss_fn = torch.nn.CrossEntropyLoss()\n",
    "    # проходимся по батчам даталоадера\n",
    "    for i, batch in enumerate(tqdm(dataloader)):\n",
    "\n",
    "        # Due to the matrix multiplication we have to control the sizes of matrixes. Here we forgot about last matrix with wrong shape\n",
    "        if i == 312:\n",
    "            continue\n",
    "\n",
    "        # так получаем текущий батч\n",
    "        X_batch, y_batch = batch\n",
    "\n",
    "        # выключаем подсчет любых градиентов\n",
    "        with torch.no_grad():\n",
    "\n",
    "            # получаем ответы сети на батч\n",
    "            X_batch = X_batch.view(X_batch.size()[0], -1)\n",
    "            logits = model(X_batch)\n",
    "            X_batch, y_batch = X_batch, y_batch\n",
    "\n",
    "            # вычисляем значение лосс-функции на батче\n",
    "            loss = loss_fn(logits, y_batch)\n",
    "            loss = loss.item()\n",
    "\n",
    "            # сохраняем лосс на текущем батче в массив\n",
    "            losses.append(loss)\n",
    "\n",
    "            # для каждого элемента батча понимаем,\n",
    "            # к какому классу от 0 до 9 отнесла его сеть\n",
    "            y_pred = torch.argmax(logits, dim=1)\n",
    "\n",
    "        # сохраняем в массивы правильные ответы на текущий батч\n",
    "        # и ответы сети на текущий батч\n",
    "        y_pred_list.extend(y_pred.cpu().numpy())\n",
    "        y_true_list.extend(y_batch.numpy())\n",
    "\n",
    "    # считаем accuracy между ответам сети и правильными ответами\n",
    "    accuracy = accuracy_score(y_pred_list, y_true_list)\n",
    "\n",
    "    return accuracy, np.mean(losses)"
   ]
  },
  {
   "cell_type": "code",
   "execution_count": 6,
   "id": "4d522b23-81ad-4541-aca6-587af5a8a077",
   "metadata": {
    "tags": []
   },
   "outputs": [],
   "source": [
    "from sklearn.metrics import accuracy_score\n",
    "\n",
    "def evaluate(model, dataloader, loss_fn):\n",
    "\n",
    "    y_pred_list = []\n",
    "    y_true_list = []\n",
    "    losses = []\n",
    "    loss_fn = torch.nn.CrossEntropyLoss()\n",
    "    # проходимся по батчам даталоадера\n",
    "    for i, batch in enumerate(tqdm(dataloader)):\n",
    "\n",
    "        # Due to the matrix multiplication we have to control the sizes of matrixes. Here we forgot about last matrix with wrong shape\n",
    "        if i == 312:\n",
    "            continue\n",
    "\n",
    "        # так получаем текущий батч\n",
    "        X_batch, y_batch = batch\n",
    "        \n",
    "        # выключаем подсчет любых градиентов\n",
    "        with torch.no_grad():\n",
    "\n",
    "            # получаем ответы сети на батч\n",
    "            X_batch = X_batch.view(X_batch.shape[0], -1)\n",
    "            logits = model(X_batch)\n",
    "\n",
    "            # вычисляем значение лосс-функции на батче\n",
    "            loss = loss_fn(logits, y_batch)\n",
    "            loss = loss.item()\n",
    "\n",
    "            # сохраняем лосс на текущем батче в массив\n",
    "            losses.append(loss)\n",
    "\n",
    "            # для каждого элемента батча понимаем,\n",
    "            # к какому классу от 0 до 9 отнесла его сеть\n",
    "            y_pred = torch.argmax(logits, dim=1)\n",
    "\n",
    "        # сохраняем в массивы правильные ответы на текущий батч\n",
    "        # и ответы сети на текущий батч\n",
    "        y_pred_list.extend(y_pred.cpu().numpy())\n",
    "        y_true_list.extend(y_batch.numpy())\n",
    "\n",
    "    # считаем accuracy между ответам сети и правильными ответами\n",
    "    accuracy = accuracy_score(y_pred_list, y_true_list)\n",
    "\n",
    "    return accuracy, np.mean(losses)"
   ]
  },
  {
   "cell_type": "code",
   "execution_count": 7,
   "id": "5a47df64-fa22-4a46-b782-eb614a13a9dc",
   "metadata": {
    "tags": []
   },
   "outputs": [
    {
     "data": {
      "application/vnd.jupyter.widget-view+json": {
       "model_id": "1b28a75256c04d30b6d723da7c64070f",
       "version_major": 2,
       "version_minor": 0
      },
      "text/plain": [
       "  0%|          | 0/79 [00:00<?, ?it/s]"
      ]
     },
     "metadata": {},
     "output_type": "display_data"
    },
    {
     "name": "stdout",
     "output_type": "stream",
     "text": [
      "accuracy is:  0.8396\n"
     ]
    }
   ],
   "source": [
    "acc, ls = evaluate(model_dfa, test_loader, loss)\n",
    "print('accuracy is: ', round(acc,4))"
   ]
  },
  {
   "cell_type": "code",
   "execution_count": null,
   "id": "e344c836-b38f-4f83-b6d5-e36aed6ca96a",
   "metadata": {},
   "outputs": [],
   "source": []
  }
 ],
 "metadata": {
  "kernelspec": {
   "display_name": "Python 3 (ipykernel)",
   "language": "python",
   "name": "python3"
  },
  "language_info": {
   "codemirror_mode": {
    "name": "ipython",
    "version": 3
   },
   "file_extension": ".py",
   "mimetype": "text/x-python",
   "name": "python",
   "nbconvert_exporter": "python",
   "pygments_lexer": "ipython3",
   "version": "3.11.4"
  }
 },
 "nbformat": 4,
 "nbformat_minor": 5
}
